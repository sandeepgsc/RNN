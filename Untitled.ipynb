{
 "cells": [
  {
   "cell_type": "code",
   "execution_count": 1,
   "id": "8c9606a4",
   "metadata": {},
   "outputs": [],
   "source": [
    "import tensorflow\n"
   ]
  },
  {
   "cell_type": "code",
   "execution_count": 2,
   "id": "4e677ad3",
   "metadata": {},
   "outputs": [],
   "source": [
    "from tensorflow import keras"
   ]
  },
  {
   "cell_type": "code",
   "execution_count": 5,
   "id": "1927c880",
   "metadata": {},
   "outputs": [],
   "source": [
    "from tensorflow.keras.preprocessing import text"
   ]
  },
  {
   "cell_type": "code",
   "execution_count": 6,
   "id": "a5e5c9d3",
   "metadata": {},
   "outputs": [],
   "source": [
    "from tensorflow.keras.preprocessing.text import one_hot"
   ]
  },
  {
   "cell_type": "code",
   "execution_count": 7,
   "id": "c919995f",
   "metadata": {},
   "outputs": [],
   "source": [
    "import string"
   ]
  },
  {
   "cell_type": "code",
   "execution_count": 9,
   "id": "82d46a14",
   "metadata": {},
   "outputs": [],
   "source": [
    "from tensorflow.keras.preprocessing.sequence import pad_sequences"
   ]
  },
  {
   "cell_type": "code",
   "execution_count": 10,
   "id": "754aeb1a",
   "metadata": {},
   "outputs": [],
   "source": [
    "docs = ['Well done!',\n",
    "'Good work',\n",
    "'Great effort',\n",
    "'nice work',\n",
    "'Excellent!',\n",
    "'Weak',\n",
    "'Poor effort!',\n",
    "'not good',\n",
    "'poor work',\n",
    "'Could have done better.']"
   ]
  },
  {
   "cell_type": "code",
   "execution_count": 12,
   "id": "3f25a4a6",
   "metadata": {},
   "outputs": [
    {
     "name": "stdout",
     "output_type": "stream",
     "text": [
      "[[28, 51], [28, 85], [64, 84], [22, 85], [64], [21], [65, 84], [61, 28], [65, 85], [30, 6, 51, 19]]\n"
     ]
    }
   ],
   "source": [
    "\n",
    "voc_size=100\n",
    "embed_docs=[one_hot(i,voc_size)for i in docs]\n",
    "print(embed_docs)"
   ]
  },
  {
   "cell_type": "code",
   "execution_count": 13,
   "id": "29e0c9d4",
   "metadata": {},
   "outputs": [],
   "source": [
    "#padding"
   ]
  },
  {
   "cell_type": "code",
   "execution_count": 14,
   "id": "cdcc57e7",
   "metadata": {},
   "outputs": [],
   "source": [
    "from tensorflow.keras.preprocessing.sequence import pad_sequences"
   ]
  },
  {
   "cell_type": "code",
   "execution_count": 17,
   "id": "2ed713d4",
   "metadata": {},
   "outputs": [],
   "source": [
    "sent_length=5\n",
    "embed_docs_pad=pad_sequences(embed_docs,maxlen=sent_length,padding='post')"
   ]
  },
  {
   "cell_type": "code",
   "execution_count": 18,
   "id": "39fbf424",
   "metadata": {},
   "outputs": [
    {
     "data": {
      "text/plain": [
       "array([[28, 51,  0,  0,  0],\n",
       "       [28, 85,  0,  0,  0],\n",
       "       [64, 84,  0,  0,  0],\n",
       "       [22, 85,  0,  0,  0],\n",
       "       [64,  0,  0,  0,  0],\n",
       "       [21,  0,  0,  0,  0],\n",
       "       [65, 84,  0,  0,  0],\n",
       "       [61, 28,  0,  0,  0],\n",
       "       [65, 85,  0,  0,  0],\n",
       "       [30,  6, 51, 19,  0]])"
      ]
     },
     "execution_count": 18,
     "metadata": {},
     "output_type": "execute_result"
    }
   ],
   "source": [
    "embed_docs_pad"
   ]
  },
  {
   "cell_type": "code",
   "execution_count": 20,
   "id": "ff94f218",
   "metadata": {},
   "outputs": [],
   "source": [
    "from tensorflow.keras.models import Sequential\n",
    "from tensorflow.keras.layers import Embedding,Activation,Dense,Flatten,Dropout,LeakyReLU\n",
    "from tensorflow.keras.activations import sigmoid,relu,softmax\n",
    "from tensorflow.keras.optimizers import Adam\n"
   ]
  },
  {
   "cell_type": "code",
   "execution_count": 21,
   "id": "d5478352",
   "metadata": {},
   "outputs": [],
   "source": [
    "label=[1,1,1,1,1,0,0,0,0,0]"
   ]
  },
  {
   "cell_type": "code",
   "execution_count": 31,
   "id": "c401ff4f",
   "metadata": {},
   "outputs": [],
   "source": [
    "import numpy as np\n",
    "import pandas as pd"
   ]
  },
  {
   "cell_type": "code",
   "execution_count": 33,
   "id": "5ac771a7",
   "metadata": {},
   "outputs": [],
   "source": [
    "label=np.array(label)"
   ]
  },
  {
   "cell_type": "code",
   "execution_count": 34,
   "id": "e4e5dd9a",
   "metadata": {},
   "outputs": [],
   "source": [
    "model=Sequential()\n",
    "model.add(Embedding(voc_size,8,input_length=sent_length))\n",
    "model.add(Flatten())\n",
    "model.add(Dense(1,activation='sigmoid'))"
   ]
  },
  {
   "cell_type": "code",
   "execution_count": 35,
   "id": "aa9946a9",
   "metadata": {},
   "outputs": [],
   "source": [
    "model.compile(optimizer='adam',loss='binary_crossentropy',metrics=['accuracy'])"
   ]
  },
  {
   "cell_type": "code",
   "execution_count": 36,
   "id": "c86149ec",
   "metadata": {},
   "outputs": [
    {
     "name": "stdout",
     "output_type": "stream",
     "text": [
      "Model: \"sequential_3\"\n",
      "_________________________________________________________________\n",
      "Layer (type)                 Output Shape              Param #   \n",
      "=================================================================\n",
      "embedding_2 (Embedding)      (None, 5, 8)              800       \n",
      "_________________________________________________________________\n",
      "flatten_2 (Flatten)          (None, 40)                0         \n",
      "_________________________________________________________________\n",
      "dense_1 (Dense)              (None, 1)                 41        \n",
      "=================================================================\n",
      "Total params: 841\n",
      "Trainable params: 841\n",
      "Non-trainable params: 0\n",
      "_________________________________________________________________\n"
     ]
    }
   ],
   "source": [
    "model.summary()"
   ]
  },
  {
   "cell_type": "code",
   "execution_count": 39,
   "id": "d8dc70bb",
   "metadata": {
    "scrolled": true
   },
   "outputs": [
    {
     "name": "stdout",
     "output_type": "stream",
     "text": [
      "Epoch 1/30\n",
      "1/1 - 0s - loss: 0.6268 - accuracy: 1.0000\n",
      "Epoch 2/30\n",
      "1/1 - 0s - loss: 0.6252 - accuracy: 1.0000\n",
      "Epoch 3/30\n",
      "1/1 - 0s - loss: 0.6235 - accuracy: 1.0000\n",
      "Epoch 4/30\n",
      "1/1 - 0s - loss: 0.6219 - accuracy: 1.0000\n",
      "Epoch 5/30\n",
      "1/1 - 0s - loss: 0.6202 - accuracy: 1.0000\n",
      "Epoch 6/30\n",
      "1/1 - 0s - loss: 0.6185 - accuracy: 1.0000\n",
      "Epoch 7/30\n",
      "1/1 - 0s - loss: 0.6168 - accuracy: 1.0000\n",
      "Epoch 8/30\n",
      "1/1 - 0s - loss: 0.6151 - accuracy: 1.0000\n",
      "Epoch 9/30\n",
      "1/1 - 0s - loss: 0.6133 - accuracy: 1.0000\n",
      "Epoch 10/30\n",
      "1/1 - 0s - loss: 0.6116 - accuracy: 1.0000\n",
      "Epoch 11/30\n",
      "1/1 - 0s - loss: 0.6098 - accuracy: 1.0000\n",
      "Epoch 12/30\n",
      "1/1 - 0s - loss: 0.6080 - accuracy: 1.0000\n",
      "Epoch 13/30\n",
      "1/1 - 0s - loss: 0.6062 - accuracy: 1.0000\n",
      "Epoch 14/30\n",
      "1/1 - 0s - loss: 0.6044 - accuracy: 1.0000\n",
      "Epoch 15/30\n",
      "1/1 - 0s - loss: 0.6026 - accuracy: 1.0000\n",
      "Epoch 16/30\n",
      "1/1 - 0s - loss: 0.6008 - accuracy: 1.0000\n",
      "Epoch 17/30\n",
      "1/1 - 0s - loss: 0.5989 - accuracy: 1.0000\n",
      "Epoch 18/30\n",
      "1/1 - 0s - loss: 0.5971 - accuracy: 1.0000\n",
      "Epoch 19/30\n",
      "1/1 - 0s - loss: 0.5952 - accuracy: 1.0000\n",
      "Epoch 20/30\n",
      "1/1 - 0s - loss: 0.5933 - accuracy: 1.0000\n",
      "Epoch 21/30\n",
      "1/1 - 0s - loss: 0.5914 - accuracy: 1.0000\n",
      "Epoch 22/30\n",
      "1/1 - 0s - loss: 0.5895 - accuracy: 1.0000\n",
      "Epoch 23/30\n",
      "1/1 - 0s - loss: 0.5876 - accuracy: 1.0000\n",
      "Epoch 24/30\n",
      "1/1 - 0s - loss: 0.5856 - accuracy: 1.0000\n",
      "Epoch 25/30\n",
      "1/1 - 0s - loss: 0.5837 - accuracy: 1.0000\n",
      "Epoch 26/30\n",
      "1/1 - 0s - loss: 0.5817 - accuracy: 1.0000\n",
      "Epoch 27/30\n",
      "1/1 - 0s - loss: 0.5797 - accuracy: 1.0000\n",
      "Epoch 28/30\n",
      "1/1 - 0s - loss: 0.5778 - accuracy: 1.0000\n",
      "Epoch 29/30\n",
      "1/1 - 0s - loss: 0.5758 - accuracy: 1.0000\n",
      "Epoch 30/30\n",
      "1/1 - 0s - loss: 0.5738 - accuracy: 1.0000\n"
     ]
    },
    {
     "data": {
      "text/plain": [
       "<tensorflow.python.keras.callbacks.History at 0x23699a2c280>"
      ]
     },
     "execution_count": 39,
     "metadata": {},
     "output_type": "execute_result"
    }
   ],
   "source": [
    "model.fit(embed_docs_pad,label,verbose=2,epochs=30)"
   ]
  },
  {
   "cell_type": "code",
   "execution_count": 40,
   "id": "00d4dbb3",
   "metadata": {},
   "outputs": [
    {
     "name": "stdout",
     "output_type": "stream",
     "text": [
      "WARNING:tensorflow:From <ipython-input-40-1a68684fb3c5>:1: Sequential.predict_classes (from tensorflow.python.keras.engine.sequential) is deprecated and will be removed after 2021-01-01.\n",
      "Instructions for updating:\n",
      "Please use instead:* `np.argmax(model.predict(x), axis=-1)`,   if your model does multi-class classification   (e.g. if it uses a `softmax` last-layer activation).* `(model.predict(x) > 0.5).astype(\"int32\")`,   if your model does binary classification   (e.g. if it uses a `sigmoid` last-layer activation).\n"
     ]
    }
   ],
   "source": [
    "a=model.predict_classes(embed_docs_pad)[0]"
   ]
  },
  {
   "cell_type": "code",
   "execution_count": 41,
   "id": "a1ab683d",
   "metadata": {},
   "outputs": [
    {
     "data": {
      "text/plain": [
       "array([1])"
      ]
     },
     "execution_count": 41,
     "metadata": {},
     "output_type": "execute_result"
    }
   ],
   "source": [
    "a"
   ]
  },
  {
   "cell_type": "code",
   "execution_count": 42,
   "id": "a04d9c82",
   "metadata": {},
   "outputs": [],
   "source": [
    "b=model.predict_classes(embed_docs_pad)[9]"
   ]
  },
  {
   "cell_type": "code",
   "execution_count": 43,
   "id": "8605d3b3",
   "metadata": {},
   "outputs": [
    {
     "data": {
      "text/plain": [
       "array([0])"
      ]
     },
     "execution_count": 43,
     "metadata": {},
     "output_type": "execute_result"
    }
   ],
   "source": [
    "b"
   ]
  },
  {
   "cell_type": "code",
   "execution_count": 46,
   "id": "4f5dad89",
   "metadata": {},
   "outputs": [],
   "source": [
    "c=model.predict(embed_docs_pad)"
   ]
  },
  {
   "cell_type": "code",
   "execution_count": 50,
   "id": "e7161094",
   "metadata": {},
   "outputs": [],
   "source": [
    "d=[]\n",
    "for i in c:\n",
    "    if i>0.5:\n",
    "        d.append(1)\n",
    "    else:\n",
    "        d.append(0)"
   ]
  },
  {
   "cell_type": "code",
   "execution_count": 51,
   "id": "24f65ce6",
   "metadata": {},
   "outputs": [
    {
     "data": {
      "text/plain": [
       "[1, 1, 1, 1, 1, 0, 0, 0, 0, 0]"
      ]
     },
     "execution_count": 51,
     "metadata": {},
     "output_type": "execute_result"
    }
   ],
   "source": [
    "d"
   ]
  },
  {
   "cell_type": "code",
   "execution_count": 52,
   "id": "57129f6d",
   "metadata": {},
   "outputs": [],
   "source": [
    "a=[1,[2,3],4,[5,6,7],8]"
   ]
  },
  {
   "cell_type": "code",
   "execution_count": 58,
   "id": "0501bbf0",
   "metadata": {},
   "outputs": [
    {
     "data": {
      "text/plain": [
       "2"
      ]
     },
     "execution_count": 58,
     "metadata": {},
     "output_type": "execute_result"
    }
   ],
   "source": [
    "len(a[1])"
   ]
  },
  {
   "cell_type": "code",
   "execution_count": null,
   "id": "d36e8cb5",
   "metadata": {},
   "outputs": [],
   "source": []
  }
 ],
 "metadata": {
  "kernelspec": {
   "display_name": "Python 3",
   "language": "python",
   "name": "python3"
  },
  "language_info": {
   "codemirror_mode": {
    "name": "ipython",
    "version": 3
   },
   "file_extension": ".py",
   "mimetype": "text/x-python",
   "name": "python",
   "nbconvert_exporter": "python",
   "pygments_lexer": "ipython3",
   "version": "3.8.8"
  }
 },
 "nbformat": 4,
 "nbformat_minor": 5
}
